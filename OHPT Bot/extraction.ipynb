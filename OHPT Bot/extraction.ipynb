{
 "cells": [
  {
   "cell_type": "code",
   "execution_count": null,
   "metadata": {},
   "outputs": [],
   "source": [
    "import PyPDF2\n",
    "import regex as re\n",
    "\n",
    "\n",
    "def extract_text_from_pdf(pdf_path):\n",
    "    with open(pdf_path, 'rb') as file:\n",
    "        reader = PyPDF2.PdfReader(file)\n",
    "        text = ''\n",
    "        for page in range(len(reader.pages)):\n",
    "            text += reader.pages[page].extract_text()\n",
    "    return text\n",
    "\n"
   ]
  },
  {
   "cell_type": "code",
   "execution_count": null,
   "metadata": {},
   "outputs": [],
   "source": [
    "def preprocess_text(text):\n",
    "    cleaned_text = text.replace('\\n', ' ')\n",
    "    cleaned_text = cleaned_text.replace('\\x00', '')\n",
    "    cleaned_text = re.sub(r'\\s+', ' ', cleaned_text)\n",
    "    return cleaned_text"
   ]
  },
  {
   "cell_type": "code",
   "execution_count": null,
   "metadata": {},
   "outputs": [],
   "source": [
    "def extract_formulas_and_words(text):\n",
    "    # formulas = re.findall(r'\\$.*?\\$', text)\n",
    "    # words = re.findall(r'\\b\\w+\\b', text)\n",
    "    words = re.split(r'\\n\\s*\\n', text.strip())\n",
    "    print(words)\n",
    "    return words"
   ]
  },
  {
   "cell_type": "code",
   "execution_count": null,
   "metadata": {},
   "outputs": [],
   "source": [
    "import csv\n",
    "\n",
    "def convert_to_csv(words, csv_path):\n",
    "    with open(csv_path, 'w', newline='') as file:\n",
    "        writer = csv.writer(file)\n",
    "        for word in zip(words):\n",
    "            writer.writerows(word)"
   ]
  },
  {
   "cell_type": "code",
   "execution_count": null,
   "metadata": {},
   "outputs": [],
   "source": [
    "def convert_pdf_to_csv(pdf_path, csv_path):\n",
    "    # Step 3: Extract text\n",
    "    text = extract_text_from_pdf(pdf_path)\n",
    "    # Step 4: Preprocess text\n",
    "    cleaned_text = preprocess_text(text)\n",
    "    # Step 5: Extract math formulas\n",
    "    words = extract_formulas_and_words(cleaned_text)\n",
    "    # Step 6: Convert to CSV\n",
    "    convert_to_csv(words, csv_path)"
   ]
  },
  {
   "cell_type": "code",
   "execution_count": null,
   "metadata": {},
   "outputs": [],
   "source": [
    "from PyPDF2 import PdfReader\n",
    "  \n",
    "# creating a pdf reader object\n",
    "\n",
    "for i in range(2,10):\n",
    "    csv_path = './data/files/chap'+str(i)+'.csv'\n",
    "    pdf_path = './chap'+str(i)+'.pdf'\n",
    "\n",
    "    reader = PyPDF2.PdfReader(pdf_path)\n",
    "                    \n",
    "    \n",
    "    # printing number of pages in pdf file\n",
    "    print(len(reader.pages))\n",
    "\n",
    "    with open(csv_path, 'w', newline='') as file:\n",
    "        writer = csv.writer(file, delimiter='⌘')\n",
    "        writer.writerow(['Chapter', 'Page', 'Text'])\n",
    "        \n",
    "    # getting a specific page from the pdf file\n",
    "        for page in range(len(reader.pages)):\n",
    "            # extracting text from page\n",
    "            text = reader.pages[page].extract_text()\n",
    "            cleaned_text = preprocess_text(text)\n",
    "            words = extract_formulas_and_words(cleaned_text)\n",
    "            writer.writerow([i]+[page] + list(words))"
   ]
  }
 ],
 "metadata": {
  "language_info": {
   "name": "python"
  },
  "orig_nbformat": 4
 },
 "nbformat": 4,
 "nbformat_minor": 2
}
